{
 "cells": [
  {
   "cell_type": "code",
   "execution_count": 2,
   "metadata": {},
   "outputs": [],
   "source": [
    "import xarray as xr\n",
    "import numpy as np\n",
    "import pandas as pd\n",
    "import dask.array\n",
    "from zarr.storage import FSStore\n",
    "import fsspec\n",
    "from fsspec.implementations.local import LocalFileSystem"
   ]
  },
  {
   "cell_type": "code",
   "execution_count": 3,
   "metadata": {},
   "outputs": [],
   "source": [
    "fs = fsspec.filesystem(\n",
    "    protocol=\"az\",\n",
    "    account_name=\"sauchdev\",\n",
    "    anon=False,\n",
    ")"
   ]
  },
  {
   "cell_type": "code",
   "execution_count": null,
   "metadata": {},
   "outputs": [],
   "source": [
    "fs.download(\"az://data/zarr_templates/latest_nwp_sample.nc\", \"latest_nwp_sample_001.nc\")\n",
    "\n",
    "sample = xr.open_dataset(\"latest_nwp_sample_001.nc\")"
   ]
  },
  {
   "cell_type": "code",
   "execution_count": 3,
   "metadata": {},
   "outputs": [],
   "source": [
    "template = xr.Dataset(None, coords=sample.coords)"
   ]
  },
  {
   "cell_type": "code",
   "execution_count": 4,
   "metadata": {},
   "outputs": [],
   "source": [
    "for name in template._coord_names:\n",
    "    if np.issubdtype(template[name].dtype, np.datetime64):\n",
    "        template[name].encoding[\"units\"] = \"hours since 2023-01-01 00:00:00\"\n",
    "    if np.issubdtype(template[name].dtype, np.timedelta64):\n",
    "        template[name].encoding[\"units\"] = \"hours\""
   ]
  },
  {
   "cell_type": "code",
   "execution_count": 5,
   "metadata": {},
   "outputs": [],
   "source": [
    "time_utc_idx = pd.date_range(start=\"2023-01-01T00:00:00\", end=\"2026-01-01T00:00:00\", freq=pd.Timedelta(hours=1))"
   ]
  },
  {
   "cell_type": "code",
   "execution_count": 6,
   "metadata": {},
   "outputs": [],
   "source": [
    "template = template.reindex(time_utc=time_utc_idx)"
   ]
  },
  {
   "cell_type": "code",
   "execution_count": 7,
   "metadata": {},
   "outputs": [],
   "source": [
    "shape = tuple(v for v in template.coords.sizes.values())"
   ]
  },
  {
   "cell_type": "code",
   "execution_count": 8,
   "metadata": {},
   "outputs": [
    {
     "name": "stderr",
     "output_type": "stream",
     "text": [
      "/tmp/ipykernel_32591/3042545308.py:1: FutureWarning: The return type of `Dataset.dims` will be changed to return a set of dimension names in future, in order to be more consistent with `DataArray.dims`. To access a mapping from dimension names to lengths, please use `Dataset.sizes`.\n",
      "  dims = tuple(k for k in template.dims.keys())\n"
     ]
    }
   ],
   "source": [
    "dims = tuple(k for k in template.dims.keys())"
   ]
  },
  {
   "cell_type": "markdown",
   "metadata": {},
   "source": [
    "## Temp store"
   ]
  },
  {
   "cell_type": "code",
   "execution_count": 9,
   "metadata": {},
   "outputs": [],
   "source": [
    "empty_array = dask.array.empty(shape=shape, chunks=[shape[0], 24, 50, 50])"
   ]
  },
  {
   "cell_type": "code",
   "execution_count": 10,
   "metadata": {},
   "outputs": [],
   "source": [
    "for variable in sample.data_vars:\n",
    "    template[variable] = (dims, empty_array)"
   ]
  },
  {
   "cell_type": "code",
   "execution_count": null,
   "metadata": {},
   "outputs": [],
   "source": [
    "remote_store = FSStore(\n",
    "    url=\"az://data/tmp_latest_nwp_rechunked\",\n",
    "    fs=fs,\n",
    ")"
   ]
  },
  {
   "cell_type": "code",
   "execution_count": 13,
   "metadata": {},
   "outputs": [
    {
     "data": {
      "text/plain": [
       "Delayed('_finalize_store-6cb429a3-3c55-490a-a6c0-c6849dcf1cb0')"
      ]
     },
     "execution_count": 13,
     "metadata": {},
     "output_type": "execute_result"
    }
   ],
   "source": [
    "template.to_zarr(\n",
    "    store=remote_store,\n",
    "    compute=False,\n",
    ")"
   ]
  },
  {
   "cell_type": "markdown",
   "metadata": {},
   "source": [
    "## Final store"
   ]
  },
  {
   "cell_type": "code",
   "execution_count": 9,
   "metadata": {},
   "outputs": [],
   "source": [
    "empty_array = dask.array.empty(shape=shape, chunks=[shape[0], shape[1], 50, 50])"
   ]
  },
  {
   "cell_type": "code",
   "execution_count": 10,
   "metadata": {},
   "outputs": [],
   "source": [
    "for variable in sample.data_vars:\n",
    "    template[variable] = (dims, empty_array)"
   ]
  },
  {
   "cell_type": "code",
   "execution_count": 15,
   "metadata": {},
   "outputs": [],
   "source": [
    "# need to add x and y as coordinates, in order to write in regions for these blocks\n",
    "template = template.assign_coords(\n",
    "    x=template[\"x\"],\n",
    "    y=template[\"y\"],\n",
    ")"
   ]
  },
  {
   "cell_type": "code",
   "execution_count": null,
   "metadata": {},
   "outputs": [],
   "source": [
    "fs = fsspec.filesystem(\n",
    "    protocol=\"az\",\n",
    "    account_name=\"sauchdev\",\n",
    "    anon=False,\n",
    ")\n",
    "\n",
    "remote_store = FSStore(\n",
    "    url=\"az://data/latest_nwp_rechunked\",\n",
    "    fs=fs,\n",
    ")"
   ]
  },
  {
   "cell_type": "code",
   "execution_count": 18,
   "metadata": {},
   "outputs": [
    {
     "data": {
      "text/plain": [
       "Delayed('_finalize_store-420741b5-ba26-44cb-8b87-309383a97487')"
      ]
     },
     "execution_count": 18,
     "metadata": {},
     "output_type": "execute_result"
    }
   ],
   "source": [
    "template.to_zarr(\n",
    "    store=remote_store,\n",
    "    compute=False,\n",
    ")"
   ]
  },
  {
   "cell_type": "code",
   "execution_count": null,
   "metadata": {},
   "outputs": [],
   "source": []
  }
 ],
 "metadata": {
  "kernelspec": {
   "display_name": "energi-etl",
   "language": "python",
   "name": "python3"
  },
  "language_info": {
   "codemirror_mode": {
    "name": "ipython",
    "version": 3
   },
   "file_extension": ".py",
   "mimetype": "text/x-python",
   "name": "python",
   "nbconvert_exporter": "python",
   "pygments_lexer": "ipython3",
   "version": "3.10.8"
  }
 },
 "nbformat": 4,
 "nbformat_minor": 2
}
