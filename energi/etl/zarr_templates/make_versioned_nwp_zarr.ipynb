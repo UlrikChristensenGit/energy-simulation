{
 "cells": [
  {
   "cell_type": "code",
   "execution_count": 1,
   "metadata": {},
   "outputs": [],
   "source": [
    "import xarray as xr\n",
    "import numpy as np\n",
    "import pandas as pd\n",
    "import dask.array\n",
    "from zarr.storage import FSStore\n",
    "import fsspec\n",
    "from fsspec.implementations.local import LocalFileSystem"
   ]
  },
  {
   "cell_type": "code",
   "execution_count": 2,
   "metadata": {},
   "outputs": [],
   "source": [
    "fs = fsspec.filesystem(\n",
    "    protocol=\"az\",\n",
    "    account_name=\"sauchdev\",\n",
    "    anon=False,\n",
    ")\n",
    "\n",
    "remote_store = FSStore(\n",
    "    url=\"az://data/versioned_nwp\",\n",
    "    fs=fs,\n",
    ")"
   ]
  },
  {
   "cell_type": "code",
   "execution_count": null,
   "metadata": {},
   "outputs": [
    {
     "data": {
      "text/plain": [
       "[None]"
      ]
     },
     "execution_count": 19,
     "metadata": {},
     "output_type": "execute_result"
    }
   ],
   "source": [
    "fs.download(\"az://data/zarr_templates/versioned_nwp_sample.nc\", \"versioned_nwp_sample_001.nc\")\n",
    "\n",
    "sample = xr.open_dataset(\"versioned_nwp_sample_001.nc\")"
   ]
  },
  {
   "cell_type": "code",
   "execution_count": 3,
   "metadata": {},
   "outputs": [],
   "source": [
    "template = xr.Dataset(None, coords=sample.coords)"
   ]
  },
  {
   "cell_type": "code",
   "execution_count": 4,
   "metadata": {},
   "outputs": [],
   "source": [
    "for name in template._coord_names:\n",
    "    if np.issubdtype(template[name].dtype, np.datetime64):\n",
    "        template[name].encoding[\"units\"] = \"hours since 2023-01-01 00:00:00\"\n",
    "    if np.issubdtype(template[name].dtype, np.timedelta64):\n",
    "        template[name].encoding[\"units\"] = \"hours\""
   ]
  },
  {
   "cell_type": "code",
   "execution_count": 5,
   "metadata": {},
   "outputs": [],
   "source": [
    "horizon_idx = pd.TimedeltaIndex([pd.Timedelta(hours=i) for i in range(61)])"
   ]
  },
  {
   "cell_type": "code",
   "execution_count": 6,
   "metadata": {},
   "outputs": [],
   "source": [
    "template = template.reindex(horizon=horizon_idx)"
   ]
  },
  {
   "cell_type": "code",
   "execution_count": 7,
   "metadata": {},
   "outputs": [],
   "source": [
    "model_run_time_utc_idx = pd.date_range(start=\"2023-01-01T00:00:00\", end=\"2026-01-01T00:00:00\", freq=pd.Timedelta(hours=3))"
   ]
  },
  {
   "cell_type": "code",
   "execution_count": 8,
   "metadata": {},
   "outputs": [],
   "source": [
    "template = template.reindex(model_run_time_utc=model_run_time_utc_idx)"
   ]
  },
  {
   "cell_type": "code",
   "execution_count": 9,
   "metadata": {},
   "outputs": [],
   "source": [
    "shape = tuple(v for v in template.coords.sizes.values())"
   ]
  },
  {
   "cell_type": "code",
   "execution_count": 10,
   "metadata": {},
   "outputs": [
    {
     "name": "stderr",
     "output_type": "stream",
     "text": [
      "/tmp/ipykernel_9943/3042545308.py:1: FutureWarning: The return type of `Dataset.dims` will be changed to return a set of dimension names in future, in order to be more consistent with `DataArray.dims`. To access a mapping from dimension names to lengths, please use `Dataset.sizes`.\n",
      "  dims = tuple(k for k in template.dims.keys())\n"
     ]
    }
   ],
   "source": [
    "dims = tuple(k for k in template.dims.keys())"
   ]
  },
  {
   "cell_type": "code",
   "execution_count": 11,
   "metadata": {},
   "outputs": [],
   "source": [
    "empty_array = dask.array.empty(shape=shape, chunks=[shape[0], 1, 1, shape[3], shape[4]])"
   ]
  },
  {
   "cell_type": "code",
   "execution_count": 12,
   "metadata": {},
   "outputs": [],
   "source": [
    "for variable in sample.data_vars:\n",
    "    template[variable] = (dims, empty_array)"
   ]
  },
  {
   "cell_type": "code",
   "execution_count": 15,
   "metadata": {},
   "outputs": [
    {
     "data": {
      "text/plain": [
       "Delayed('_finalize_store-4bf31f75-c5e8-4d3d-a24c-5fdb46e8d57e')"
      ]
     },
     "execution_count": 15,
     "metadata": {},
     "output_type": "execute_result"
    }
   ],
   "source": [
    "template.to_zarr(\n",
    "    store=remote_store,\n",
    "    compute=False,\n",
    ")"
   ]
  }
 ],
 "metadata": {
  "kernelspec": {
   "display_name": "energi-etl",
   "language": "python",
   "name": "python3"
  },
  "language_info": {
   "codemirror_mode": {
    "name": "ipython",
    "version": 3
   },
   "file_extension": ".py",
   "mimetype": "text/x-python",
   "name": "python",
   "nbconvert_exporter": "python",
   "pygments_lexer": "ipython3",
   "version": "3.10.8"
  }
 },
 "nbformat": 4,
 "nbformat_minor": 2
}
